{
 "cells": [
  {
   "cell_type": "code",
   "execution_count": 2,
   "id": "59e2786f",
   "metadata": {},
   "outputs": [
    {
     "name": "stdout",
     "output_type": "stream",
     "text": [
      "Collecting pandas\n",
      "  Using cached pandas-2.3.0-cp310-cp310-manylinux_2_17_x86_64.manylinux2014_x86_64.whl (12.3 MB)\n",
      "Collecting pytz>=2020.1\n",
      "  Using cached pytz-2025.2-py2.py3-none-any.whl (509 kB)\n",
      "Requirement already satisfied: python-dateutil>=2.8.2 in ./venv/lib/python3.10/site-packages (from pandas) (2.9.0.post0)\n",
      "Collecting tzdata>=2022.7\n",
      "  Using cached tzdata-2025.2-py2.py3-none-any.whl (347 kB)\n",
      "Requirement already satisfied: numpy>=1.22.4 in ./venv/lib/python3.10/site-packages (from pandas) (2.2.6)\n",
      "Requirement already satisfied: six>=1.5 in ./venv/lib/python3.10/site-packages (from python-dateutil>=2.8.2->pandas) (1.17.0)\n",
      "Installing collected packages: pytz, tzdata, pandas\n",
      "Successfully installed pandas-2.3.0 pytz-2025.2 tzdata-2025.2\n"
     ]
    }
   ],
   "source": [
    "!pip install pandas\n"
   ]
  },
  {
   "cell_type": "code",
   "execution_count": 5,
   "id": "9303bc10",
   "metadata": {},
   "outputs": [
    {
     "name": "stdout",
     "output_type": "stream",
     "text": [
      "Transferring table: allergies\n",
      "Transferring table: procedures\n",
      "Transferring table: providers\n",
      "Transferring table: imaging_studies\n",
      "Transferring table: immunizations\n",
      "Transferring table: medications\n",
      "Transferring table: observations\n",
      "Transferring table: organizations\n",
      "Transferring table: patients\n",
      "Transferring table: payer_transitions\n",
      "Transferring table: payers\n",
      "Transferring table: careplans\n",
      "Transferring table: conditions\n",
      "Transferring table: devices\n",
      "Transferring table: encounters\n",
      "\n",
      "All tables transferred from PostgreSQL (sample) to SQLite (output.sqlite)!\n"
     ]
    }
   ],
   "source": [
    "import os\n",
    "from sqlalchemy import create_engine, inspect\n",
    "from urllib.parse import quote_plus\n",
    "import pandas as pd\n",
    "\n",
    "# Load environment variables (optional)\n",
    "# from dotenv import load_dotenv\n",
    "# load_dotenv()\n",
    "\n",
    "# PostgreSQL details\n",
    "PG_HOST = os.getenv(\"DB_HOST\", \"localhost\")\n",
    "PG_PORT = os.getenv(\"DB_PORT\", 5432)\n",
    "PG_USER = os.getenv(\"DB_USER\", \"admin\")\n",
    "PG_PASSWORD = os.getenv(\"DB_PASSWORD\", \"admin@123\")\n",
    "PG_DB = os.getenv(\"DB_NAME\", \"sample\")\n",
    "\n",
    "# SQLite output file\n",
    "SQLITE_DB = os.getenv(\"SQLITE_DB\", \"sqlite.db\")\n",
    "\n",
    "# URL-encode password in case it has special chars\n",
    "pg_password_encoded = quote_plus(PG_PASSWORD)\n",
    "\n",
    "# PostgreSQL connection\n",
    "pg_url = f\"postgresql+psycopg2://{PG_USER}:{pg_password_encoded}@{PG_HOST}:{PG_PORT}/{PG_DB}\"\n",
    "pg_engine = create_engine(pg_url)\n",
    "pg_inspector = inspect(pg_engine)\n",
    "\n",
    "# SQLite connection\n",
    "sqlite_engine = create_engine(f\"sqlite:///{SQLITE_DB}\")\n",
    "\n",
    "# Get all tables\n",
    "tables = pg_inspector.get_table_names()\n",
    "\n",
    "for table in tables:\n",
    "    print(f\"Transferring table: {table}\")\n",
    "    df = pd.read_sql_table(table, pg_engine)\n",
    "    df.to_sql(table, sqlite_engine, index=False, if_exists=\"replace\")\n",
    "\n",
    "print(f\"\\nAll tables transferred from PostgreSQL ({PG_DB}) to SQLite ({SQLITE_DB})!\")\n"
   ]
  },
  {
   "cell_type": "code",
   "execution_count": 8,
   "id": "dc21d929",
   "metadata": {},
   "outputs": [
    {
     "name": "stdout",
     "output_type": "stream",
     "text": [
      "Tables in output.sqlite:\n",
      "allergies\n",
      "procedures\n",
      "providers\n",
      "imaging_studies\n",
      "immunizations\n",
      "medications\n",
      "observations\n",
      "organizations\n",
      "patients\n",
      "payer_transitions\n",
      "payers\n",
      "careplans\n",
      "conditions\n",
      "devices\n",
      "encounters\n"
     ]
    }
   ],
   "source": [
    "import sqlite3\n",
    "\n",
    "SQLITE_DB = \"output.sqlite\"\n",
    "\n",
    "def list_tables():\n",
    "    conn = sqlite3.connect(SQLITE_DB)\n",
    "    try:\n",
    "        cursor = conn.cursor()\n",
    "        cursor.execute(\"SELECT name FROM sqlite_master WHERE type='table';\")\n",
    "        tables = [row[0] for row in cursor.fetchall()]\n",
    "        return tables\n",
    "    finally:\n",
    "        conn.close()\n",
    "\n",
    "if __name__ == \"__main__\":\n",
    "    tables = list_tables()\n",
    "    print(\"Tables in output.sqlite:\")\n",
    "    for table in tables:\n",
    "        print(table)\n"
   ]
  },
  {
   "cell_type": "code",
   "execution_count": null,
   "id": "8366d585",
   "metadata": {},
   "outputs": [],
   "source": []
  }
 ],
 "metadata": {
  "kernelspec": {
   "display_name": "venv",
   "language": "python",
   "name": "python3"
  },
  "language_info": {
   "codemirror_mode": {
    "name": "ipython",
    "version": 3
   },
   "file_extension": ".py",
   "mimetype": "text/x-python",
   "name": "python",
   "nbconvert_exporter": "python",
   "pygments_lexer": "ipython3",
   "version": "3.10.12"
  }
 },
 "nbformat": 4,
 "nbformat_minor": 5
}
